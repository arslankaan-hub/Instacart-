{
 "cells": [
  {
   "cell_type": "markdown",
   "id": "388bf131-1895-416e-8cbc-8676f9129e48",
   "metadata": {},
   "source": [
    "#01 importing libraries"
   ]
  },
  {
   "cell_type": "code",
   "execution_count": 2,
   "id": "52ad14e4-7ce3-448d-aac7-836e67c4f893",
   "metadata": {},
   "outputs": [],
   "source": [
    "#importing libraries\n",
    "import pandas as pd\n",
    "import numpy as np\n",
    "import os"
   ]
  },
  {
   "cell_type": "markdown",
   "id": "dcf8b804-5824-4e00-90e9-bad6d4780611",
   "metadata": {},
   "source": [
    "#02 practising with data types"
   ]
  },
  {
   "cell_type": "markdown",
   "id": "faf69e34-50da-425b-99d5-d1ef66999609",
   "metadata": {},
   "source": [
    "#03 3 different formulas to reach 100"
   ]
  },
  {
   "cell_type": "code",
   "execution_count": 6,
   "id": "fda9fcfe-64f9-470e-854b-31706d6f3aaf",
   "metadata": {},
   "outputs": [],
   "source": [
    "x=25 ; y=4 ; z=10 ; k=400"
   ]
  },
  {
   "cell_type": "code",
   "execution_count": 8,
   "id": "2e072982-3c97-4e6d-9f9e-7c706b86dbb9",
   "metadata": {},
   "outputs": [
    {
     "data": {
      "text/plain": [
       "100"
      ]
     },
     "execution_count": 8,
     "metadata": {},
     "output_type": "execute_result"
    }
   ],
   "source": [
    "(2*x) + (5*z) "
   ]
  },
  {
   "cell_type": "code",
   "execution_count": 9,
   "id": "4ce3ab5c-ebe6-40ba-b001-e1eaa9d3ceff",
   "metadata": {},
   "outputs": [
    {
     "data": {
      "text/plain": [
       "100"
      ]
     },
     "execution_count": 9,
     "metadata": {},
     "output_type": "execute_result"
    }
   ],
   "source": [
    "k - (12*x)"
   ]
  },
  {
   "cell_type": "code",
   "execution_count": 10,
   "id": "4389ecff-10ae-4498-9397-d262010d0778",
   "metadata": {},
   "outputs": [
    {
     "data": {
      "text/plain": [
       "100"
      ]
     },
     "execution_count": 10,
     "metadata": {},
     "output_type": "execute_result"
    }
   ],
   "source": [
    "(10*y) + (6*z)"
   ]
  },
  {
   "cell_type": "markdown",
   "id": "1c053370-f97b-424c-a0be-878394001c16",
   "metadata": {},
   "source": [
    "#04 coding two floating values and divide them each other"
   ]
  },
  {
   "cell_type": "code",
   "execution_count": 11,
   "id": "58c02972-89a1-46be-99a9-3c9150e338c3",
   "metadata": {},
   "outputs": [],
   "source": [
    "a=3.14 ; b=19.93"
   ]
  },
  {
   "cell_type": "code",
   "execution_count": 15,
   "id": "ae47d902-5049-4bc9-9eef-0778e3664a48",
   "metadata": {},
   "outputs": [
    {
     "name": "stdout",
     "output_type": "stream",
     "text": [
      "0.15755143000501756\n",
      "6.3471337579617835\n"
     ]
    }
   ],
   "source": [
    "print(a/b) ; print(b/a)"
   ]
  },
  {
   "cell_type": "markdown",
   "id": "f4f86a7b-7a37-480e-ab36-6ddf295f047e",
   "metadata": {},
   "source": [
    "#05 constructing a word"
   ]
  },
  {
   "cell_type": "code",
   "execution_count": 27,
   "id": "a80b9854-7b47-4585-81e8-6b5d2513f9e5",
   "metadata": {},
   "outputs": [],
   "source": [
    "n=\"merh\" ; m=\"aba\""
   ]
  },
  {
   "cell_type": "code",
   "execution_count": 28,
   "id": "35853fa2-1d1c-4c7b-b31a-a2772d14eee2",
   "metadata": {},
   "outputs": [
    {
     "data": {
      "text/plain": [
       "'merhaba'"
      ]
     },
     "execution_count": 28,
     "metadata": {},
     "output_type": "execute_result"
    }
   ],
   "source": [
    "n+m"
   ]
  },
  {
   "cell_type": "code",
   "execution_count": 25,
   "id": "fb665055-9015-49f9-8e8f-e5c661bbac5d",
   "metadata": {},
   "outputs": [],
   "source": [
    "c=\"Kaan\" ; d=\" Arslan \" ; e=\"İstanbulda\" ; f=\" doğdu\""
   ]
  },
  {
   "cell_type": "code",
   "execution_count": 26,
   "id": "dfa8183c-8ebb-4bb1-b340-ae3a490550c9",
   "metadata": {},
   "outputs": [
    {
     "data": {
      "text/plain": [
       "'Kaan Arslan İstanbulda doğdu'"
      ]
     },
     "execution_count": 26,
     "metadata": {},
     "output_type": "execute_result"
    }
   ],
   "source": [
    "c + d + e + f"
   ]
  },
  {
   "cell_type": "code",
   "execution_count": 31,
   "id": "4ebad654-8576-4e48-8cad-8132f4a40972",
   "metadata": {},
   "outputs": [],
   "source": [
    "ö=\"Bugün\" ; ç=\" hava\" ; ş=\" çok\" ; ı= \" sıcak \" "
   ]
  },
  {
   "cell_type": "code",
   "execution_count": 32,
   "id": "07630654-a471-4335-b460-5f97c04760a3",
   "metadata": {},
   "outputs": [
    {
     "data": {
      "text/plain": [
       "'Bugün hava çok sıcak '"
      ]
     },
     "execution_count": 32,
     "metadata": {},
     "output_type": "execute_result"
    }
   ],
   "source": [
    "ö+ç+ş+ı"
   ]
  },
  {
   "cell_type": "markdown",
   "id": "0310eb47-9101-4dfb-b0bf-9114b5d83d7d",
   "metadata": {},
   "source": [
    "#06 bonus"
   ]
  },
  {
   "cell_type": "code",
   "execution_count": 33,
   "id": "394b2784-8d03-4d65-92e5-fb4b5c1561aa",
   "metadata": {},
   "outputs": [
    {
     "data": {
      "text/plain": [
       "'KaanKaanKaanKaanKaanKaanKaanKaanKaanKaanKaanKaanKaanKaanKaanKaanKaanKaanKaanKaanKaanKaanKaanKaanKaanKaanKaanKaanKaanKaanKaanKaanKaanKaanKaanKaanKaanKaanKaanKaanKaanKaanKaanKaanKaanKaanKaanKaanKaanKaanKaanKaanKaanKaanKaanKaanKaanKaanKaanKaanKaanKaanKaanKaanKaanKaanKaanKaanKaanKaanKaanKaanKaanKaanKaanKaanKaanKaanKaanKaanKaanKaanKaanKaanKaanKaanKaanKaanKaanKaanKaanKaanKaanKaanKaanKaanKaanKaanKaanKaan'"
      ]
     },
     "execution_count": 33,
     "metadata": {},
     "output_type": "execute_result"
    }
   ],
   "source": [
    "c*100"
   ]
  },
  {
   "cell_type": "code",
   "execution_count": null,
   "id": "36c4526b-1728-4fe3-8ecd-279c7d7ea1e1",
   "metadata": {},
   "outputs": [],
   "source": []
  }
 ],
 "metadata": {
  "kernelspec": {
   "display_name": "Python [conda env:base] *",
   "language": "python",
   "name": "conda-base-py"
  },
  "language_info": {
   "codemirror_mode": {
    "name": "ipython",
    "version": 3
   },
   "file_extension": ".py",
   "mimetype": "text/x-python",
   "name": "python",
   "nbconvert_exporter": "python",
   "pygments_lexer": "ipython3",
   "version": "3.13.5"
  }
 },
 "nbformat": 4,
 "nbformat_minor": 5
}
